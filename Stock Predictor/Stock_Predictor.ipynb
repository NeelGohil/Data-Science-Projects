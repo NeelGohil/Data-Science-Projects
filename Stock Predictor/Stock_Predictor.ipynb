{
  "nbformat": 4,
  "nbformat_minor": 0,
  "metadata": {
    "colab": {
      "name": "Stock_Predictor",
      "provenance": []
    },
    "kernelspec": {
      "name": "python3",
      "display_name": "Python 3"
    }
  },
  "cells": [
    {
      "cell_type": "code",
      "metadata": {
        "id": "gGYRqQQuUlWG",
        "colab_type": "code",
        "colab": {}
      },
      "source": [
        "# This program predicts stock prices using ML Models\n"
      ],
      "execution_count": 0,
      "outputs": []
    },
    {
      "cell_type": "code",
      "metadata": {
        "id": "Z9WX8NakUoZE",
        "colab_type": "code",
        "colab": {}
      },
      "source": [
        "import quandl\n",
        "import numpy as np\n",
        "from sklearn.linear_model import LinearRegression\n",
        "from sklearn.svm import SVR\n",
        "from sklearn.model_selection import train_test_split"
      ],
      "execution_count": 0,
      "outputs": []
    },
    {
      "cell_type": "code",
      "metadata": {
        "id": "gW1bLhghWFZn",
        "colab_type": "code",
        "colab": {}
      },
      "source": [
        "df = quandl.get(\"WIKI/GOOGL\")\n",
        "\n",
        "#print(df.head())"
      ],
      "execution_count": 0,
      "outputs": []
    },
    {
      "cell_type": "code",
      "metadata": {
        "id": "MN8Wb-5wWMC-",
        "colab_type": "code",
        "colab": {}
      },
      "source": [
        "# Get the adjusted close price\n",
        "\n",
        "df = df[['Adj. Close']]"
      ],
      "execution_count": 0,
      "outputs": []
    },
    {
      "cell_type": "code",
      "metadata": {
        "id": "LpVRWdTnWkh5",
        "colab_type": "code",
        "colab": {}
      },
      "source": [
        "# A variable for predicting n days out into the future\n",
        "forcast_out = 30 \n",
        "\n",
        "#Create another column (the target or dependent variable) shifted n units up\n",
        "df['Prediction'] = df[['Adj. Close']].shift(-forcast_out)\n",
        "\n",
        "#print(df.tail())"
      ],
      "execution_count": 0,
      "outputs": []
    },
    {
      "cell_type": "code",
      "metadata": {
        "id": "QfsRzSfXWlEm",
        "colab_type": "code",
        "colab": {
          "base_uri": "https://localhost:8080/",
          "height": 139
        },
        "outputId": "02881c37-52e3-4761-9c9a-586546f20834"
      },
      "source": [
        "# Create the independent data set (X)\n",
        "# Convert the data frame to numpy array\n",
        "X = np.array(df.drop(['Prediction'], 1))\n",
        "\n",
        "# Remove the last n rows\n",
        "X= X[:-forcast_out]\n",
        "\n",
        "print(X)"
      ],
      "execution_count": 45,
      "outputs": [
        {
          "output_type": "stream",
          "text": [
            "[[  50.32284179]\n",
            " [  54.32268894]\n",
            " [  54.86937651]\n",
            " ...\n",
            " [1005.6       ]\n",
            " [1043.43      ]\n",
            " [1054.56      ]]\n"
          ],
          "name": "stdout"
        }
      ]
    },
    {
      "cell_type": "code",
      "metadata": {
        "id": "SlC2VkDIncge",
        "colab_type": "code",
        "colab": {}
      },
      "source": [
        "## Create the dependent dataset (y)\n",
        "# Convert the dataframe to a numpy array (All of the values including the NaN's)\n",
        "\n",
        "y = np.array(df['Prediction'])\n",
        "\n"
      ],
      "execution_count": 0,
      "outputs": []
    },
    {
      "cell_type": "code",
      "metadata": {
        "id": "STrCA2CHoOgy",
        "colab_type": "code",
        "colab": {
          "base_uri": "https://localhost:8080/",
          "height": 52
        },
        "outputId": "827ce301-5e94-4b91-8d02-b8959135dd6b"
      },
      "source": [
        "# Get all of the y values except the last 'n' rows\n",
        "\n",
        "y = y[:-forcast_out]\n",
        "print(y)"
      ],
      "execution_count": 47,
      "outputs": [
        {
          "output_type": "stream",
          "text": [
            "[  66.49526451   67.73910413   69.39922877 ... 1026.55       1054.09\n",
            " 1006.94      ]\n"
          ],
          "name": "stdout"
        }
      ]
    },
    {
      "cell_type": "code",
      "metadata": {
        "id": "qwGT8UW0oZrW",
        "colab_type": "code",
        "colab": {}
      },
      "source": [
        "x_train, x_test, y_train, y_test = train_test_split(X,y, test_size = 0.2)"
      ],
      "execution_count": 0,
      "outputs": []
    },
    {
      "cell_type": "code",
      "metadata": {
        "id": "2dTdBg1qo1S2",
        "colab_type": "code",
        "colab": {
          "base_uri": "https://localhost:8080/",
          "height": 52
        },
        "outputId": "b590c6c2-2488-4fe8-d6d1-7557e65179cb"
      },
      "source": [
        "# Create and Train the Support Vector Machine\n",
        "svr_rbf = SVR(kernel= 'rbf', C= 1e3, gamma = 0.1)\n",
        "svr_rbf.fit(x_train, y_train)"
      ],
      "execution_count": 49,
      "outputs": [
        {
          "output_type": "execute_result",
          "data": {
            "text/plain": [
              "SVR(C=1000.0, cache_size=200, coef0=0.0, degree=3, epsilon=0.1, gamma=0.1,\n",
              "    kernel='rbf', max_iter=-1, shrinking=True, tol=0.001, verbose=False)"
            ]
          },
          "metadata": {
            "tags": []
          },
          "execution_count": 49
        }
      ]
    },
    {
      "cell_type": "code",
      "metadata": {
        "id": "Pqcr389JpytS",
        "colab_type": "code",
        "colab": {
          "base_uri": "https://localhost:8080/",
          "height": 35
        },
        "outputId": "9371894f-bc8e-4506-ae7f-dd24416026f6"
      },
      "source": [
        "# Testing Model: Score returns the coefficient of determination R^2 of the prediction\n",
        "# Best score is 1\n",
        "svm_confidence = svr_rbf.score(x_test, y_test)\n",
        "print(\"svm confidence: \", svm_confidence)"
      ],
      "execution_count": 50,
      "outputs": [
        {
          "output_type": "stream",
          "text": [
            "svm confidence:  0.9649557901736738\n"
          ],
          "name": "stdout"
        }
      ]
    },
    {
      "cell_type": "code",
      "metadata": {
        "id": "oCTZuXYSqpEO",
        "colab_type": "code",
        "colab": {
          "base_uri": "https://localhost:8080/",
          "height": 55
        },
        "outputId": "c8b5350b-0af6-45f7-ce4c-6b17db0969e7"
      },
      "source": [
        "# Create and train the Linear Regression Model\n",
        "\n",
        "lr = LinearRegression()\n",
        "\n",
        "# Train the model\n",
        "\n",
        "lr.fit(x_train, y_train)"
      ],
      "execution_count": 51,
      "outputs": [
        {
          "output_type": "execute_result",
          "data": {
            "text/plain": [
              "LinearRegression(copy_X=True, fit_intercept=True, n_jobs=None, normalize=False)"
            ]
          },
          "metadata": {
            "tags": []
          },
          "execution_count": 51
        }
      ]
    },
    {
      "cell_type": "code",
      "metadata": {
        "id": "QxvonFHEq8CD",
        "colab_type": "code",
        "colab": {
          "base_uri": "https://localhost:8080/",
          "height": 35
        },
        "outputId": "ddff056b-19e5-473e-adc5-e611863c2180"
      },
      "source": [
        "# Testing Model: Score returns the coefficient of determination R^2 of the prediction\n",
        "# Best score is 1\n",
        "lr_confidence = lr.score(x_test, y_test)\n",
        "print(\"lr confidence: \", lr_confidence)"
      ],
      "execution_count": 52,
      "outputs": [
        {
          "output_type": "stream",
          "text": [
            "lr confidence:  0.9782127097980912\n"
          ],
          "name": "stdout"
        }
      ]
    },
    {
      "cell_type": "code",
      "metadata": {
        "id": "g7gp8aoBrIbc",
        "colab_type": "code",
        "colab": {
          "base_uri": "https://localhost:8080/",
          "height": 537
        },
        "outputId": "74a8e8af-ddc9-4c4e-b8f1-fb7f911361fc"
      },
      "source": [
        "# Set x_forcast equal to the last 30 rows of the original data set from Adj. Close column\n",
        "\n",
        "x_forecast = np.array(df.drop(['Prediction'], 1))[-forcast_out:]\n",
        "print(x_forecast)"
      ],
      "execution_count": 53,
      "outputs": [
        {
          "output_type": "stream",
          "text": [
            "[[1054.14]\n",
            " [1072.7 ]\n",
            " [1091.36]\n",
            " [1095.5 ]\n",
            " [1103.59]\n",
            " [1113.75]\n",
            " [1109.9 ]\n",
            " [1128.09]\n",
            " [1143.7 ]\n",
            " [1117.51]\n",
            " [1103.92]\n",
            " [1071.41]\n",
            " [1084.14]\n",
            " [1094.76]\n",
            " [1100.9 ]\n",
            " [1115.04]\n",
            " [1129.38]\n",
            " [1160.84]\n",
            " [1165.93]\n",
            " [1139.91]\n",
            " [1148.89]\n",
            " [1150.61]\n",
            " [1134.42]\n",
            " [1100.07]\n",
            " [1095.8 ]\n",
            " [1094.  ]\n",
            " [1053.15]\n",
            " [1026.55]\n",
            " [1054.09]\n",
            " [1006.94]]\n"
          ],
          "name": "stdout"
        }
      ]
    },
    {
      "cell_type": "code",
      "metadata": {
        "id": "G1JC4AxSsn0C",
        "colab_type": "code",
        "colab": {
          "base_uri": "https://localhost:8080/",
          "height": 121
        },
        "outputId": "c9f1a922-a4bd-4ce9-f262-7f38ecdc67ff"
      },
      "source": [
        "# Print linear regression model predictions for the next 'n' days\n",
        "\n",
        "lr_prediction = lr.predict(x_forecast)\n",
        "print(lr_prediction)"
      ],
      "execution_count": 54,
      "outputs": [
        {
          "output_type": "stream",
          "text": [
            "[1073.62651682 1092.4727878  1111.42060119 1115.62445689 1123.83923772\n",
            " 1134.1559464  1130.24656368 1148.71712775 1164.56789769 1137.97394096\n",
            " 1124.17432767 1091.16289073 1104.08923931 1114.87304307 1121.10774694\n",
            " 1135.46584347 1150.02702482 1181.97226647 1187.14077505 1160.71944041\n",
            " 1169.83794868 1171.5844781  1155.1447622  1120.26494495 1115.92908411\n",
            " 1114.10132076 1072.62124697 1045.61096637 1073.57574561 1025.6985001 ]\n"
          ],
          "name": "stdout"
        }
      ]
    },
    {
      "cell_type": "code",
      "metadata": {
        "id": "Jym3gbazs6YP",
        "colab_type": "code",
        "colab": {
          "base_uri": "https://localhost:8080/",
          "height": 121
        },
        "outputId": "783f5021-627e-44b4-cc69-33b257807d82"
      },
      "source": [
        "# Print support vector machine model predictions for the next 'n' days\n",
        "\n",
        "svm_prediction = svr_rbf.predict(x_forecast)\n",
        "print(svm_prediction)"
      ],
      "execution_count": 55,
      "outputs": [
        {
          "output_type": "stream",
          "text": [
            "[1003.56100086 1106.87808437 1081.93467481 1108.8222512   612.54979858\n",
            " 1117.03777801 1072.38237065  871.93766344 1083.3952508  1114.17709661\n",
            "  614.50801087 1098.85219589 1105.01632168 1131.33191014  637.19834856\n",
            " 1109.16200278 1035.48236117  770.04613619  995.01982948 1101.92388523\n",
            "  630.69077263  609.89107993  767.51080122  672.98677042 1093.04731491\n",
            " 1137.91664517 1046.78800056 1031.38246307 1004.0443178  1065.81060283]\n"
          ],
          "name": "stdout"
        }
      ]
    },
    {
      "cell_type": "code",
      "metadata": {
        "id": "m8cxWXCwtNsR",
        "colab_type": "code",
        "colab": {}
      },
      "source": [
        ""
      ],
      "execution_count": 0,
      "outputs": []
    }
  ]
}